{
 "cells": [
  {
   "cell_type": "code",
   "execution_count": 7,
   "id": "ee421325-f6be-4062-8fd4-5488392f378c",
   "metadata": {},
   "outputs": [
    {
     "name": "stdout",
     "output_type": "stream",
     "text": [
      "Package            Version\n",
      "------------------ ---------\n",
      "accelerate         1.10.1\n",
      "certifi            2025.10.5\n",
      "charset-normalizer 3.4.3\n",
      "decorator          5.2.1\n",
      "diffusers          0.35.1\n",
      "filelock           3.20.0\n",
      "fsspec             2025.9.0\n",
      "hf-xet             1.1.10\n",
      "huggingface-hub    0.35.3\n",
      "idna               3.11\n",
      "imageio            2.37.0\n",
      "imageio-ffmpeg     0.6.0\n",
      "importlib_metadata 8.7.0\n",
      "Jinja2             3.1.6\n",
      "MarkupSafe         3.0.3\n",
      "moviepy            2.2.1\n",
      "mpmath             1.3.0\n",
      "networkx           3.5\n",
      "numpy              2.3.3\n",
      "packaging          25.0\n",
      "pillow             11.3.0\n",
      "pip                25.0.1\n",
      "proglog            0.1.12\n",
      "psutil             7.1.0\n",
      "python-dotenv      1.1.1\n",
      "PyYAML             6.0.3\n",
      "regex              2025.9.18\n",
      "requests           2.32.5\n",
      "safetensors        0.6.2\n",
      "setuptools         80.9.0\n",
      "sympy              1.14.0\n",
      "tokenizers         0.22.1\n",
      "torch              2.8.0\n",
      "tqdm               4.67.1\n",
      "transformers       4.57.0\n",
      "typing_extensions  4.15.0\n",
      "urllib3            2.5.0\n",
      "zipp               3.23.0\n"
     ]
    }
   ],
   "source": [
    "!pip list\n"
   ]
  },
  {
   "cell_type": "code",
   "execution_count": null,
   "id": "dabddafa-fbfc-4591-ba69-6c91980357ff",
   "metadata": {},
   "outputs": [],
   "source": []
  }
 ],
 "metadata": {
  "kernelspec": {
   "display_name": "Python 3 (ipykernel)",
   "language": "python",
   "name": "python3"
  },
  "language_info": {
   "codemirror_mode": {
    "name": "ipython",
    "version": 3
   },
   "file_extension": ".py",
   "mimetype": "text/x-python",
   "name": "python",
   "nbconvert_exporter": "python",
   "pygments_lexer": "ipython3",
   "version": "3.13.1"
  }
 },
 "nbformat": 4,
 "nbformat_minor": 5
}
